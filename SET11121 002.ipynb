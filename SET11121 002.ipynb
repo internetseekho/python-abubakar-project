{
 "cells": [
  {
   "cell_type": "code",
   "execution_count": 9,
   "metadata": {},
   "outputs": [],
   "source": [
    "import pandas"
   ]
  },
  {
   "cell_type": "code",
   "execution_count": 10,
   "metadata": {},
   "outputs": [],
   "source": [
    "# reading the CSV file\n",
    "csvFile = pandas.read_csv('dataset.csv')"
   ]
  },
  {
   "cell_type": "code",
   "execution_count": 76,
   "metadata": {},
   "outputs": [],
   "source": [
    "new = pandas.DataFrame(columns = [\"location\", \"average_deaths_in_2020\", \"average_deaths_in_2018\", \"average_deaths_in_2020_vs_2018\"])"
   ]
  },
  {
   "cell_type": "code",
   "execution_count": 77,
   "metadata": {},
   "outputs": [
    {
     "name": "stderr",
     "output_type": "stream",
     "text": [
      "/tmp/ipykernel_88912/2978854277.py:2: FutureWarning: The frame.append method is deprecated and will be removed from pandas in a future version. Use pandas.concat instead.\n",
      "  new = new.append(df2)\n"
     ]
    }
   ],
   "source": [
    "df2 = pandas.DataFrame([\"asa\", \"ad\", \"asda\", \"sdasd\"], columns = [\"location\", \"average_deaths_in_2020\", \"average_deaths_in_2018\", \"average_deaths_in_2020_vs_2018\"])\n",
    "new = new.append(df2)"
   ]
  },
  {
   "cell_type": "code",
   "execution_count": 78,
   "metadata": {},
   "outputs": [
    {
     "data": {
      "text/html": [
       "<div>\n",
       "<style scoped>\n",
       "    .dataframe tbody tr th:only-of-type {\n",
       "        vertical-align: middle;\n",
       "    }\n",
       "\n",
       "    .dataframe tbody tr th {\n",
       "        vertical-align: top;\n",
       "    }\n",
       "\n",
       "    .dataframe thead th {\n",
       "        text-align: right;\n",
       "    }\n",
       "</style>\n",
       "<table border=\"1\" class=\"dataframe\">\n",
       "  <thead>\n",
       "    <tr style=\"text-align: right;\">\n",
       "      <th></th>\n",
       "      <th>location</th>\n",
       "      <th>average_deaths_in_2020</th>\n",
       "      <th>average_deaths_in_2018</th>\n",
       "      <th>average_deaths_in_2020_vs_2018</th>\n",
       "      <th>0</th>\n",
       "    </tr>\n",
       "  </thead>\n",
       "  <tbody>\n",
       "    <tr>\n",
       "      <th>0</th>\n",
       "      <td>NaN</td>\n",
       "      <td>NaN</td>\n",
       "      <td>NaN</td>\n",
       "      <td>NaN</td>\n",
       "      <td>asa</td>\n",
       "    </tr>\n",
       "    <tr>\n",
       "      <th>1</th>\n",
       "      <td>NaN</td>\n",
       "      <td>NaN</td>\n",
       "      <td>NaN</td>\n",
       "      <td>NaN</td>\n",
       "      <td>ad</td>\n",
       "    </tr>\n",
       "    <tr>\n",
       "      <th>2</th>\n",
       "      <td>NaN</td>\n",
       "      <td>NaN</td>\n",
       "      <td>NaN</td>\n",
       "      <td>NaN</td>\n",
       "      <td>asda</td>\n",
       "    </tr>\n",
       "    <tr>\n",
       "      <th>3</th>\n",
       "      <td>NaN</td>\n",
       "      <td>NaN</td>\n",
       "      <td>NaN</td>\n",
       "      <td>NaN</td>\n",
       "      <td>sdasd</td>\n",
       "    </tr>\n",
       "  </tbody>\n",
       "</table>\n",
       "</div>"
      ],
      "text/plain": [
       "  location average_deaths_in_2020 average_deaths_in_2018  \\\n",
       "0      NaN                    NaN                    NaN   \n",
       "1      NaN                    NaN                    NaN   \n",
       "2      NaN                    NaN                    NaN   \n",
       "3      NaN                    NaN                    NaN   \n",
       "\n",
       "  average_deaths_in_2020_vs_2018      0  \n",
       "0                            NaN    asa  \n",
       "1                            NaN     ad  \n",
       "2                            NaN   asda  \n",
       "3                            NaN  sdasd  "
      ]
     },
     "execution_count": 78,
     "metadata": {},
     "output_type": "execute_result"
    }
   ],
   "source": [
    "new"
   ]
  },
  {
   "cell_type": "code",
   "execution_count": null,
   "metadata": {},
   "outputs": [],
   "source": [
    "for location in csvFile.location.unique():\n",
    "    temp = df.loc[df['location'] == location]\n",
    "    new.loc[] = [23, 'London', 'F']\n",
    "    print(location)\n",
    "    print(\"Average Deaths in 2020\")\n",
    "    print(temp.deaths_2020_all_ages.mean())\n",
    "    print(\"Average Deaths in 2018\")\n",
    "    print(temp.deaths_2018_all_ages.mean())\n",
    "    print(\"Difference between deaths in 2020 and 2018\")\n",
    "    print(temp.deaths_2020_all_ages.mean() - temp.deaths_2018_all_ages.mean())"
   ]
  }
 ],
 "metadata": {
  "interpreter": {
   "hash": "e7370f93d1d0cde622a1f8e1c04877d8463912d04d973331ad4851f04de6915a"
  },
  "kernelspec": {
   "display_name": "Python 3.9.2 64-bit",
   "language": "python",
   "name": "python3"
  },
  "language_info": {
   "codemirror_mode": {
    "name": "ipython",
    "version": 3
   },
   "file_extension": ".py",
   "mimetype": "text/x-python",
   "name": "python",
   "nbconvert_exporter": "python",
   "pygments_lexer": "ipython3",
   "version": "3.9.2"
  },
  "orig_nbformat": 4
 },
 "nbformat": 4,
 "nbformat_minor": 2
}
