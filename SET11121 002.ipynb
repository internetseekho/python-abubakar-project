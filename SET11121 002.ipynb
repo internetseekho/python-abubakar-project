{
 "cells": [
  {
   "cell_type": "code",
   "execution_count": 1,
   "metadata": {},
   "outputs": [],
   "source": [
    "import pandas"
   ]
  },
  {
   "cell_type": "code",
   "execution_count": 2,
   "metadata": {},
   "outputs": [],
   "source": [
    "# reading the CSV file\n",
    "csvFile = pandas.read_csv('dataset.csv')"
   ]
  },
  {
   "cell_type": "code",
   "execution_count": null,
   "metadata": {},
   "outputs": [],
   "source": [
    "# 1) Create a DataFrame that consists of the following columns: (1) location; (2) average deaths for\n",
    "# 2020; (3) average deaths of 2018; (4) the difference between average deaths of 2020 and 2018.\n",
    "# The location column should include the name of the respective country.\n",
    "average_country_wise = pandas.DataFrame()\n",
    "for location in csvFile.location.unique():\n",
    "    temp = csvFile.loc[csvFile['location'] == location]\n",
    "    df = pandas.DataFrame([[location, temp.deaths_2020_all_ages.mean(), temp.deaths_2018_all_ages.mean(), temp.deaths_2020_all_ages.mean() - temp.deaths_2018_all_ages.mean()]], columns = [\"location\", \"average_deaths_in_2020\", \"average_deaths_in_2018\", \"average_deaths_in_2020_vs_2018\"])\n",
    "    new = new.append(df)\n",
    "# the required data frame for point number 1\n",
    "average_country_wise"
   ]
  },
  {
   "cell_type": "code",
   "execution_count": null,
   "metadata": {},
   "outputs": [],
   "source": [
    "# 2) For every country/location, find the top-5 weeks with the lowest number of excess deaths\n",
    "# (Excess deaths are defined as the difference between the deaths that occurred in a specific week\n",
    "# in 2020 vs 2018).\n",
    "exess_deaths_in_top_weeks = pandas.DataFrame()\n",
    "for location in csvFile.location.unique():\n",
    "    temp = pandas.DataFrame(csvFile.loc[csvFile['location'] == location], columns=['location', 'date', 'deaths_2020_all_ages', 'deaths_2018_all_ages'])\n",
    "    temp['excess_deaths'] = temp.apply(lambda x: x['deaths_2020_all_ages'] - x['deaths_2018_all_ages'], axis=1)\n",
    "    sorted_temp = temp.sort_values(by=['excess_deaths'])\n",
    "    exess_deaths_in_top_weeks = exess_deaths_in_top_weeks.append(sorted_temp[:5])\n",
    "\n",
    "# top 5 weeks for every location\n",
    "exess_deaths_in_top_weeks"
   ]
  },
  {
   "cell_type": "code",
   "execution_count": 3,
   "metadata": {},
   "outputs": [
    {
     "data": {
      "text/plain": [
       "['Austria',\n",
       " 'Belgium',\n",
       " 'Bulgaria',\n",
       " 'Chile',\n",
       " 'Czechia',\n",
       " 'Denmark',\n",
       " 'England & Wales',\n",
       " 'Estonia',\n",
       " 'Finland',\n",
       " 'France',\n",
       " 'Germany',\n",
       " 'Greece',\n",
       " 'Hungary',\n",
       " 'Iceland',\n",
       " 'Israel',\n",
       " 'Lithuania',\n",
       " 'Netherlands',\n",
       " 'New Zealand',\n",
       " 'Northern Ireland',\n",
       " 'Norway',\n",
       " 'Poland',\n",
       " 'Portugal',\n",
       " 'Scotland',\n",
       " 'Slovenia',\n",
       " 'Spain',\n",
       " 'Sweden',\n",
       " 'Switzerland',\n",
       " 'United States']"
      ]
     },
     "execution_count": 3,
     "metadata": {},
     "output_type": "execute_result"
    }
   ],
   "source": [
    "# 3) Find all the countries showing a positive excess (e.g., the diff between 2020 and 2018 greater\n",
    "# than 0)\n",
    "countries_with_positive = []\n",
    "for location in csvFile.location.unique():\n",
    "    temp = pandas.DataFrame(csvFile.loc[csvFile['location'] == location], columns=['location', 'date', 'deaths_2020_all_ages', 'deaths_2018_all_ages'])\n",
    "    arr_sum_2020 = 0;\n",
    "    arr_sum_2018 = 0;\n",
    "    for single in temp[\"deaths_2020_all_ages\"]:\n",
    "        if( single >= 0 ):\n",
    "            arr_sum_2020 = arr_sum_2020 + single\n",
    "    for single in temp[\"deaths_2018_all_ages\"]:\n",
    "        if( single >= 0 ):\n",
    "            arr_sum_2018 = arr_sum_2018 + single\n",
    "    if( (arr_sum_2020 - arr_sum_2018) > 0 ):\n",
    "        countries_with_positive.append(location)\n",
    "countries_with_positive"
   ]
  },
  {
   "cell_type": "code",
   "execution_count": null,
   "metadata": {},
   "outputs": [],
   "source": [
    "# 4) For each country/location, find which year had the highest mortality"
   ]
  },
  {
   "cell_type": "code",
   "execution_count": null,
   "metadata": {},
   "outputs": [],
   "source": [
    "# 5) For every week, show the country/location with the lowest mortality."
   ]
  }
 ],
 "metadata": {
  "interpreter": {
   "hash": "e7370f93d1d0cde622a1f8e1c04877d8463912d04d973331ad4851f04de6915a"
  },
  "kernelspec": {
   "display_name": "Python 3.9.2 64-bit",
   "language": "python",
   "name": "python3"
  },
  "language_info": {
   "codemirror_mode": {
    "name": "ipython",
    "version": 3
   },
   "file_extension": ".py",
   "mimetype": "text/x-python",
   "name": "python",
   "nbconvert_exporter": "python",
   "pygments_lexer": "ipython3",
   "version": "3.9.2"
  },
  "orig_nbformat": 4
 },
 "nbformat": 4,
 "nbformat_minor": 2
}
